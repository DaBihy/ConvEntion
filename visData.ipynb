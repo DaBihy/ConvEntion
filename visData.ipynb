{
 "cells": [
  {
   "cell_type": "code",
   "execution_count": 1,
   "metadata": {},
   "outputs": [],
   "source": [
    "import matplotlib.pyplot as plt\n",
    "import pandas as pd\n",
    "import numpy as np\n",
    "import collections\n",
    "import sklearn"
   ]
  },
  {
   "cell_type": "code",
   "execution_count": 2,
   "metadata": {},
   "outputs": [
    {
     "data": {
      "text/html": [
       "<div>\n",
       "<style scoped>\n",
       "    .dataframe tbody tr th:only-of-type {\n",
       "        vertical-align: middle;\n",
       "    }\n",
       "\n",
       "    .dataframe tbody tr th {\n",
       "        vertical-align: top;\n",
       "    }\n",
       "\n",
       "    .dataframe thead th {\n",
       "        text-align: right;\n",
       "    }\n",
       "</style>\n",
       "<table border=\"1\" class=\"dataframe\">\n",
       "  <thead>\n",
       "    <tr style=\"text-align: right;\">\n",
       "      <th></th>\n",
       "      <th>Class Name</th>\n",
       "      <th>Number of samples</th>\n",
       "    </tr>\n",
       "  </thead>\n",
       "  <tbody>\n",
       "    <tr>\n",
       "      <th>0</th>\n",
       "      <td>AGNs</td>\n",
       "      <td>906</td>\n",
       "    </tr>\n",
       "    <tr>\n",
       "      <th>1</th>\n",
       "      <td>Variable</td>\n",
       "      <td>3225</td>\n",
       "    </tr>\n",
       "    <tr>\n",
       "      <th>2</th>\n",
       "      <td>SNII</td>\n",
       "      <td>2041</td>\n",
       "    </tr>\n",
       "    <tr>\n",
       "      <th>3</th>\n",
       "      <td>SNIa</td>\n",
       "      <td>1448</td>\n",
       "    </tr>\n",
       "    <tr>\n",
       "      <th>4</th>\n",
       "      <td>SpectoSNIa</td>\n",
       "      <td>540</td>\n",
       "    </tr>\n",
       "    <tr>\n",
       "      <th>5</th>\n",
       "      <td>SpectoSNII</td>\n",
       "      <td>89</td>\n",
       "    </tr>\n",
       "  </tbody>\n",
       "</table>\n",
       "</div>"
      ],
      "text/plain": [
       "   Class Name  Number of samples\n",
       "0        AGNs                906\n",
       "1    Variable               3225\n",
       "2        SNII               2041\n",
       "3        SNIa               1448\n",
       "4  SpectoSNIa                540\n",
       "5  SpectoSNII                 89"
      ]
     },
     "execution_count": 2,
     "metadata": {},
     "output_type": "execute_result"
    }
   ],
   "source": [
    "df_da = pd.read_csv('/home/barrage/plasticc/plasticc/ConvBERTBandSep3DCNNReguWeigthedFineTune/code/stats.csv')\n",
    "\n",
    "df_da"
   ]
  },
  {
   "cell_type": "code",
   "execution_count": 3,
   "metadata": {},
   "outputs": [
    {
     "name": "stdout",
     "output_type": "stream",
     "text": [
      "[0.28093023 1.        ]\n"
     ]
    }
   ],
   "source": [
    "classes_weigths =np.array(df_da['Number of samples'][:2])/3225\n",
    "print(classes_weigths)"
   ]
  },
  {
   "cell_type": "code",
   "execution_count": 4,
   "metadata": {},
   "outputs": [
    {
     "data": {
      "text/plain": [
       "<matplotlib.axes._subplots.AxesSubplot at 0x7f2d46c7de10>"
      ]
     },
     "execution_count": 4,
     "metadata": {},
     "output_type": "execute_result"
    },
    {
     "data": {
      "image/png": "[encoded data removed]",
      "text/plain": [
       "<Figure size 432x288 with 1 Axes>"
      ]
     },
     "metadata": {
      "needs_background": "light"
     },
     "output_type": "display_data"
    }
   ],
   "source": [
    "df_da.plot('Class Name',['Number of samples'],kind = 'bar')"
   ]
  },
  {
   "cell_type": "code",
   "execution_count": 5,
   "metadata": {},
   "outputs": [
    {
     "data": {
      "text/html": [
       "<div>\n",
       "<style scoped>\n",
       "    .dataframe tbody tr th:only-of-type {\n",
       "        vertical-align: middle;\n",
       "    }\n",
       "\n",
       "    .dataframe tbody tr th {\n",
       "        vertical-align: top;\n",
       "    }\n",
       "\n",
       "    .dataframe thead th {\n",
       "        text-align: right;\n",
       "    }\n",
       "</style>\n",
       "<table border=\"1\" class=\"dataframe\">\n",
       "  <thead>\n",
       "    <tr style=\"text-align: right;\">\n",
       "      <th></th>\n",
       "      <th>Model_Name</th>\n",
       "      <th>OAccuracy</th>\n",
       "      <th>AAccuracy</th>\n",
       "      <th>F1Score</th>\n",
       "    </tr>\n",
       "  </thead>\n",
       "  <tbody>\n",
       "    <tr>\n",
       "      <th>0</th>\n",
       "      <td>Model-1-Fold-0</td>\n",
       "      <td>69.700103</td>\n",
       "      <td>0.663158</td>\n",
       "      <td>0.654303</td>\n",
       "    </tr>\n",
       "    <tr>\n",
       "      <th>1</th>\n",
       "      <td>Model-1-Fold-1</td>\n",
       "      <td>74.560496</td>\n",
       "      <td>0.725213</td>\n",
       "      <td>0.698768</td>\n",
       "    </tr>\n",
       "    <tr>\n",
       "      <th>2</th>\n",
       "      <td>Model-1-Fold-2</td>\n",
       "      <td>76.111686</td>\n",
       "      <td>0.723025</td>\n",
       "      <td>0.708451</td>\n",
       "    </tr>\n",
       "    <tr>\n",
       "      <th>3</th>\n",
       "      <td>Model-1-Fold-3</td>\n",
       "      <td>71.561531</td>\n",
       "      <td>0.653244</td>\n",
       "      <td>0.639777</td>\n",
       "    </tr>\n",
       "  </tbody>\n",
       "</table>\n",
       "</div>"
      ],
      "text/plain": [
       "       Model_Name  OAccuracy  AAccuracy   F1Score\n",
       "0  Model-1-Fold-0  69.700103   0.663158  0.654303\n",
       "1  Model-1-Fold-1  74.560496   0.725213  0.698768\n",
       "2  Model-1-Fold-2  76.111686   0.723025  0.708451\n",
       "3  Model-1-Fold-3  71.561531   0.653244  0.639777"
      ]
     },
     "execution_count": 5,
     "metadata": {},
     "output_type": "execute_result"
    }
   ],
   "source": [
    "df_da_ = pd.read_csv('/home/barrage/anass/ConvBERTSparseSDSSResultsRegulWeighted/TrainGroupsFineTune-256-08/CSVStats/stats.csv')\n",
    "df_da_"
   ]
  },
  {
   "cell_type": "markdown",
   "metadata": {},
   "source": []
  },
  {
   "cell_type": "code",
   "execution_count": 6,
   "metadata": {},
   "outputs": [],
   "source": [
    "df_da_= df_da_.append(pd.DataFrame.from_dict({'Model_Name':[f'AVG_Values'],\n",
    "            'OAccuracy':[np.mean(df_da_['OAccuracy'])], 'AAccuracy':[np.mean(df_da_['AAccuracy'])], 'F1Score':[np.mean(df_da_['F1Score'])]}))"
   ]
  },
  {
   "cell_type": "code",
   "execution_count": 7,
   "metadata": {},
   "outputs": [
    {
     "data": {
      "text/html": [
       "<div>\n",
       "<style scoped>\n",
       "    .dataframe tbody tr th:only-of-type {\n",
       "        vertical-align: middle;\n",
       "    }\n",
       "\n",
       "    .dataframe tbody tr th {\n",
       "        vertical-align: top;\n",
       "    }\n",
       "\n",
       "    .dataframe thead th {\n",
       "        text-align: right;\n",
       "    }\n",
       "</style>\n",
       "<table border=\"1\" class=\"dataframe\">\n",
       "  <thead>\n",
       "    <tr style=\"text-align: right;\">\n",
       "      <th></th>\n",
       "      <th>Model_Name</th>\n",
       "      <th>OAccuracy</th>\n",
       "      <th>AAccuracy</th>\n",
       "      <th>F1Score</th>\n",
       "    </tr>\n",
       "  </thead>\n",
       "  <tbody>\n",
       "    <tr>\n",
       "      <th>0</th>\n",
       "      <td>Model-1-Fold-0</td>\n",
       "      <td>69.700103</td>\n",
       "      <td>0.663158</td>\n",
       "      <td>0.654303</td>\n",
       "    </tr>\n",
       "    <tr>\n",
       "      <th>1</th>\n",
       "      <td>Model-1-Fold-1</td>\n",
       "      <td>74.560496</td>\n",
       "      <td>0.725213</td>\n",
       "      <td>0.698768</td>\n",
       "    </tr>\n",
       "    <tr>\n",
       "      <th>2</th>\n",
       "      <td>Model-1-Fold-2</td>\n",
       "      <td>76.111686</td>\n",
       "      <td>0.723025</td>\n",
       "      <td>0.708451</td>\n",
       "    </tr>\n",
       "    <tr>\n",
       "      <th>3</th>\n",
       "      <td>Model-1-Fold-3</td>\n",
       "      <td>71.561531</td>\n",
       "      <td>0.653244</td>\n",
       "      <td>0.639777</td>\n",
       "    </tr>\n",
       "    <tr>\n",
       "      <th>0</th>\n",
       "      <td>AVG_Values</td>\n",
       "      <td>72.983454</td>\n",
       "      <td>0.691160</td>\n",
       "      <td>0.675325</td>\n",
       "    </tr>\n",
       "  </tbody>\n",
       "</table>\n",
       "</div>"
      ],
      "text/plain": [
       "       Model_Name  OAccuracy  AAccuracy   F1Score\n",
       "0  Model-1-Fold-0  69.700103   0.663158  0.654303\n",
       "1  Model-1-Fold-1  74.560496   0.725213  0.698768\n",
       "2  Model-1-Fold-2  76.111686   0.723025  0.708451\n",
       "3  Model-1-Fold-3  71.561531   0.653244  0.639777\n",
       "0      AVG_Values  72.983454   0.691160  0.675325"
      ]
     },
     "execution_count": 7,
     "metadata": {},
     "output_type": "execute_result"
    }
   ],
   "source": [
    "df_da_"
   ]
  },
  {
   "cell_type": "code",
   "execution_count": 8,
   "metadata": {},
   "outputs": [],
   "source": [
    "\n",
    "from astropy.table import Table\n",
    "import random\n",
    "\n",
    "def getKeysByValue(dictOfElements, valueToFind):\n",
    "    listOfKeys = list()\n",
    "    listOfItems = dictOfElements.items()\n",
    "    for item  in listOfItems:\n",
    "        if item[1] == valueToFind:\n",
    "            listOfKeys.append(item[0])\n",
    "    # print('This is dic ')\n",
    "    # print(listOfKeys)  \n",
    "    return  listOfKeys\n",
    "\n",
    "    \n",
    "def get_id_label(meta_path):\n",
    "    dict_id_label = {}\n",
    "    all_transients = Table.read(meta_path)\n",
    "    for transient in all_transients :\n",
    "        if str(transient['Classification']) == 'Unknown': continue #we exclude Unknown from our dataset \n",
    "        non_supernova =['AGN', 'Unknown', 'Variable']\n",
    "        train_snII = ['pSNII', 'pSNIbc','zSNII','zSNIbc']\n",
    "        train_snIa = ['pSNIa','zSNIa']\n",
    "        Valid_snIa = ['SNIa?','SNIa']\n",
    "        # print(str(transient['Classification']))\n",
    "        if str(transient['Classification']) in non_supernova:\n",
    "            dict_id_label[int(transient['CID'])] = str(transient['Classification'])\n",
    "        elif str(transient['Classification']) in train_snII:\n",
    "            dict_id_label[int(transient['CID'])] = 'TrainSNII'\n",
    "        elif str(transient['Classification']) in train_snIa:\n",
    "            dict_id_label[int(transient['CID'])] = 'TrainSNIa'\n",
    "        elif str(transient['Classification']) in Valid_snIa:\n",
    "            dict_id_label[int(transient['CID'])] = 'ValidSNIa'\n",
    "        else :\n",
    "            dict_id_label[int(transient['CID'])] = 'ValidSNII'\n",
    "    # print('This is dic ')\n",
    "    # print(dict_id_label)        \n",
    "    return dict_id_label\n",
    "\n",
    "\n",
    "ids_label_dict = get_id_label('/home/barrage/anass/sdss/master_data.fits')\n",
    "AGNs = getKeysByValue(ids_label_dict,'AGN')\n",
    "Variable = getKeysByValue(ids_label_dict,'Variable')\n",
    "SNII = getKeysByValue(ids_label_dict,'TrainSNII')\n",
    "SNIa =getKeysByValue(ids_label_dict,'TrainSNIa')\n",
    "SpectoSNIa =getKeysByValue(ids_label_dict,'ValidSNIa')\n",
    "SpectoSNII = getKeysByValue(ids_label_dict,'ValidSNII')\n",
    "random.shuffle(AGNs)\n",
    "random.shuffle(Variable)\n",
    "random.shuffle(SNII)\n",
    "random.shuffle(SNIa)\n",
    "random.shuffle(SpectoSNIa)\n",
    "random.shuffle(SpectoSNII)\n",
    "\n",
    "AGNs.remove(13651)\n",
    "\n",
    "Train_AGN = AGNs[:int(len(AGNs)/2)] + AGNs[:int(len(AGNs)/2)]\n",
    "FineTune_AGN = AGNs[int(len(AGNs)/2):] + AGNs[int(len(AGNs)/2):]  \n",
    "\n",
    "SSNIa = SpectoSNIa + SpectoSNIa\n",
    "SSNII = SpectoSNII +SpectoSNII  +SpectoSNII \n",
    "\n",
    "Train_set = Train_AGN + Variable[:int(len(Variable)/2)] + SNII + SNIa + Variable[:int(len(Variable)/2)] + SNII + SNIa\n",
    "FineTune_set = FineTune_AGN + Variable[int(len(Variable)/2):] + Variable[int(len(Variable)/2):] + SSNIa + SSNII\n",
    "\n"
   ]
  },
  {
   "cell_type": "code",
   "execution_count": 9,
   "metadata": {},
   "outputs": [
    {
     "name": "stdout",
     "output_type": "stream",
     "text": [
      "Counter({2: 3225, 3: 2041, 1: 1448, 0: 904})\n",
      "[2.10674779 1.31526243 0.59054264 0.93312102]\n"
     ]
    },
    {
     "name": "stderr",
     "output_type": "stream",
     "text": [
      "/home/anass/anaconda3/envs/kinetics/lib/python3.6/site-packages/sklearn/utils/validation.py:70: FutureWarning: Pass classes=[0 1 2 3], y=[0 0 0 ... 3 3 3] as keyword args. From version 0.25 passing these as positional arguments will result in an error\n",
      "  FutureWarning)\n"
     ]
    }
   ],
   "source": [
    "# ['AGN', 'SNIa', 'Variable', 'SNautre']\n",
    "df_da_train = pd.DataFrame.from_dict({'Class Name':['AGNs','SNIa','Variable','SNII'], 'Number of samples for train':[len(Train_AGN),  len(SNIa), len( Variable[:int(len(Variable))]), len(SNII)]})\n",
    "list_y = [0]*len(Train_AGN) +[1]*len(SNIa) +[2]*len(Variable[:int(len(Variable))]) +[3]*len(SNII) \n",
    "num_y = np.array(list_y)\n",
    "print(collections.Counter(num_y)) \n",
    "class_weights=sklearn.utils.class_weight.compute_class_weight('balanced',np.unique(list_y),num_y)\n",
    "print(class_weights) \n"
   ]
  },
  {
   "cell_type": "code",
   "execution_count": 10,
   "metadata": {},
   "outputs": [
    {
     "data": {
      "text/html": [
       "<div>\n",
       "<style scoped>\n",
       "    .dataframe tbody tr th:only-of-type {\n",
       "        vertical-align: middle;\n",
       "    }\n",
       "\n",
       "    .dataframe tbody tr th {\n",
       "        vertical-align: top;\n",
       "    }\n",
       "\n",
       "    .dataframe thead th {\n",
       "        text-align: right;\n",
       "    }\n",
       "</style>\n",
       "<table border=\"1\" class=\"dataframe\">\n",
       "  <thead>\n",
       "    <tr style=\"text-align: right;\">\n",
       "      <th></th>\n",
       "      <th>Class Name</th>\n",
       "      <th>Number of samples for train</th>\n",
       "    </tr>\n",
       "  </thead>\n",
       "  <tbody>\n",
       "    <tr>\n",
       "      <th>0</th>\n",
       "      <td>AGNs</td>\n",
       "      <td>904</td>\n",
       "    </tr>\n",
       "    <tr>\n",
       "      <th>1</th>\n",
       "      <td>SNIa</td>\n",
       "      <td>1448</td>\n",
       "    </tr>\n",
       "    <tr>\n",
       "      <th>2</th>\n",
       "      <td>Variable</td>\n",
       "      <td>3225</td>\n",
       "    </tr>\n",
       "    <tr>\n",
       "      <th>3</th>\n",
       "      <td>SNII</td>\n",
       "      <td>2041</td>\n",
       "    </tr>\n",
       "  </tbody>\n",
       "</table>\n",
       "</div>"
      ],
      "text/plain": [
       "  Class Name  Number of samples for train\n",
       "0       AGNs                          904\n",
       "1       SNIa                         1448\n",
       "2   Variable                         3225\n",
       "3       SNII                         2041"
      ]
     },
     "execution_count": 10,
     "metadata": {},
     "output_type": "execute_result"
    }
   ],
   "source": [
    "df_da_train"
   ]
  },
  {
   "cell_type": "code",
   "execution_count": 11,
   "metadata": {},
   "outputs": [
    {
     "name": "stdout",
     "output_type": "stream",
     "text": [
      "[0.00110619 0.00069061 0.00031008 0.00048996]\n"
     ]
    }
   ],
   "source": [
    "classes_weigths_train =1/np.array(df_da_train['Number of samples for train'])\n",
    "print(classes_weigths_train)"
   ]
  },
  {
   "cell_type": "code",
   "execution_count": 12,
   "metadata": {},
   "outputs": [
    {
     "data": {
      "text/plain": [
       "<matplotlib.axes._subplots.AxesSubplot at 0x7f2d463de898>"
      ]
     },
     "execution_count": 12,
     "metadata": {},
     "output_type": "execute_result"
    },
    {
     "data": {
      "image/png": "[encoded data removed]",
      "text/plain": [
       "<Figure size 432x288 with 1 Axes>"
      ]
     },
     "metadata": {
      "needs_background": "light"
     },
     "output_type": "display_data"
    }
   ],
   "source": [
    "df_da_train.plot('Class Name',['Number of samples for train'],kind = 'bar')"
   ]
  },
  {
   "cell_type": "code",
   "execution_count": 13,
   "metadata": {},
   "outputs": [
    {
     "name": "stdout",
     "output_type": "stream",
     "text": [
      "7618\n"
     ]
    }
   ],
   "source": [
    "print(sum([len(Train_AGN), len( Variable[:int(len(Variable))]), len(SNII),  len(SNIa)]))"
   ]
  },
  {
   "cell_type": "code",
   "execution_count": 14,
   "metadata": {},
   "outputs": [
    {
     "data": {
      "text/html": [
       "<div>\n",
       "<style scoped>\n",
       "    .dataframe tbody tr th:only-of-type {\n",
       "        vertical-align: middle;\n",
       "    }\n",
       "\n",
       "    .dataframe tbody tr th {\n",
       "        vertical-align: top;\n",
       "    }\n",
       "\n",
       "    .dataframe thead th {\n",
       "        text-align: right;\n",
       "    }\n",
       "</style>\n",
       "<table border=\"1\" class=\"dataframe\">\n",
       "  <thead>\n",
       "    <tr style=\"text-align: right;\">\n",
       "      <th></th>\n",
       "      <th>Class Name</th>\n",
       "      <th>Number of samples for Finetune</th>\n",
       "    </tr>\n",
       "  </thead>\n",
       "  <tbody>\n",
       "    <tr>\n",
       "      <th>0</th>\n",
       "      <td>AGNs</td>\n",
       "      <td>906</td>\n",
       "    </tr>\n",
       "    <tr>\n",
       "      <th>1</th>\n",
       "      <td>SNIa</td>\n",
       "      <td>1080</td>\n",
       "    </tr>\n",
       "    <tr>\n",
       "      <th>2</th>\n",
       "      <td>Variable</td>\n",
       "      <td>3225</td>\n",
       "    </tr>\n",
       "    <tr>\n",
       "      <th>3</th>\n",
       "      <td>SNII</td>\n",
       "      <td>267</td>\n",
       "    </tr>\n",
       "  </tbody>\n",
       "</table>\n",
       "</div>"
      ],
      "text/plain": [
       "  Class Name  Number of samples for Finetune\n",
       "0       AGNs                             906\n",
       "1       SNIa                            1080\n",
       "2   Variable                            3225\n",
       "3       SNII                             267"
      ]
     },
     "execution_count": 14,
     "metadata": {},
     "output_type": "execute_result"
    }
   ],
   "source": [
    "df_da_fine = pd.DataFrame.from_dict({'Class Name':['AGNs','SNIa','Variable','SNII'], 'Number of samples for Finetune':[len(FineTune_AGN),  len(SSNIa), len( Variable[:int(len(Variable))]), len(SSNII)]})\n",
    "df_da_fine"
   ]
  },
  {
   "cell_type": "code",
   "execution_count": 15,
   "metadata": {},
   "outputs": [
    {
     "name": "stdout",
     "output_type": "stream",
     "text": [
      "Counter({2: 3225, 1: 1080, 0: 906, 3: 267})\n",
      "[1.5115894  1.26805556 0.42465116 5.12921348]\n"
     ]
    },
    {
     "name": "stderr",
     "output_type": "stream",
     "text": [
      "/home/anass/anaconda3/envs/kinetics/lib/python3.6/site-packages/sklearn/utils/validation.py:70: FutureWarning: Pass classes=[0 1 2 3], y=[0 0 0 ... 3 3 3] as keyword args. From version 0.25 passing these as positional arguments will result in an error\n",
      "  FutureWarning)\n"
     ]
    }
   ],
   "source": [
    "list_y = [0]*len(FineTune_AGN) +[1]*len(SSNIa) +[2]*len(Variable[:int(len(Variable))]) +[3]*len(SSNII) \n",
    "num_y = np.array(list_y)\n",
    "print(collections.Counter(num_y)) \n",
    "class_weights=sklearn.utils.class_weight.compute_class_weight('balanced',np.unique(list_y),num_y)\n",
    "print(class_weights) \n"
   ]
  },
  {
   "cell_type": "code",
   "execution_count": 16,
   "metadata": {},
   "outputs": [
    {
     "name": "stdout",
     "output_type": "stream",
     "text": [
      "[0.00110375 0.00092593 0.00031008 0.00374532]\n"
     ]
    }
   ],
   "source": [
    "classes_weigths_fineTune =1/np.array(df_da_fine['Number of samples for Finetune'])\n",
    "print(classes_weigths_fineTune)"
   ]
  },
  {
   "cell_type": "code",
   "execution_count": 16,
   "metadata": {},
   "outputs": [
    {
     "data": {
      "text/html": [
       "<div>\n",
       "<style scoped>\n",
       "    .dataframe tbody tr th:only-of-type {\n",
       "        vertical-align: middle;\n",
       "    }\n",
       "\n",
       "    .dataframe tbody tr th {\n",
       "        vertical-align: top;\n",
       "    }\n",
       "\n",
       "    .dataframe thead th {\n",
       "        text-align: right;\n",
       "    }\n",
       "</style>\n",
       "<table border=\"1\" class=\"dataframe\">\n",
       "  <thead>\n",
       "    <tr style=\"text-align: right;\">\n",
       "      <th></th>\n",
       "      <th>Class Name</th>\n",
       "      <th>Number of samples for Finetune</th>\n",
       "    </tr>\n",
       "  </thead>\n",
       "  <tbody>\n",
       "    <tr>\n",
       "      <th>0</th>\n",
       "      <td>AGNs</td>\n",
       "      <td>906</td>\n",
       "    </tr>\n",
       "    <tr>\n",
       "      <th>1</th>\n",
       "      <td>SNIa</td>\n",
       "      <td>1080</td>\n",
       "    </tr>\n",
       "    <tr>\n",
       "      <th>2</th>\n",
       "      <td>Variable</td>\n",
       "      <td>3225</td>\n",
       "    </tr>\n",
       "    <tr>\n",
       "      <th>3</th>\n",
       "      <td>SNII</td>\n",
       "      <td>267</td>\n",
       "    </tr>\n",
       "  </tbody>\n",
       "</table>\n",
       "</div>"
      ],
      "text/plain": [
       "  Class Name  Number of samples for Finetune\n",
       "0       AGNs                             906\n",
       "1       SNIa                            1080\n",
       "2   Variable                            3225\n",
       "3       SNII                             267"
      ]
     },
     "execution_count": 16,
     "metadata": {},
     "output_type": "execute_result"
    }
   ],
   "source": [
    "df_da_fine"
   ]
  },
  {
   "cell_type": "code",
   "execution_count": 31,
   "metadata": {},
   "outputs": [
    {
     "data": {
      "text/plain": [
       "<matplotlib.axes._subplots.AxesSubplot at 0x7f9f18f61438>"
      ]
     },
     "execution_count": 31,
     "metadata": {},
     "output_type": "execute_result"
    },
    {
     "data": {
      "image/png": "[encoded data removed]",
      "text/plain": [
       "<Figure size 432x288 with 1 Axes>"
      ]
     },
     "metadata": {
      "needs_background": "light"
     },
     "output_type": "display_data"
    }
   ],
   "source": [
    "df_da_fine.plot('Class Name',['Number of samples for Finetune'],kind = 'bar')"
   ]
  },
  {
   "cell_type": "code",
   "execution_count": 37,
   "metadata": {},
   "outputs": [
    {
     "name": "stdout",
     "output_type": "stream",
     "text": [
      "3867\n"
     ]
    }
   ],
   "source": [
    "print(sum([len(FineTune_AGN), len( Variable[:int(len(Variable)/2)]), len(SSNII),  len(SSNIa)]))"
   ]
  },
  {
   "cell_type": "code",
   "execution_count": null,
   "metadata": {},
   "outputs": [],
   "source": [
    "df_results  = pd.read_csv('/home/barrage/anass/ConvBERTSparseSDSSResultsRegulWeighted/TrainGroupsFineTune-256-08/CSVStats/stats.csv')\n",
    "df_results"
   ]
  }
 ],
 "metadata": {
  "interpreter": {
   "hash": "377cd02b3600901ab1a1b036138585fd147337fe9bdf5023a209b046b7d9b190"
  },
  "kernelspec": {
   "display_name": "Python 3.6.10 64-bit ('plastic': conda)",
   "name": "python3"
  },
  "language_info": {
   "codemirror_mode": {
    "name": "ipython",
    "version": 3
   },
   "file_extension": ".py",
   "mimetype": "text/x-python",
   "name": "python",
   "nbconvert_exporter": "python",
   "pygments_lexer": "ipython3",
   "version": "3.6.7"
  },
  "orig_nbformat": 4
 },
 "nbformat": 4,
 "nbformat_minor": 2
}
